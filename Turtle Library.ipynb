{
 "cells": [
  {
   "cell_type": "markdown",
   "id": "b15b8e8a",
   "metadata": {},
   "source": [
    "#### Design of a Multi-Coloured Hexagon"
   ]
  },
  {
   "cell_type": "code",
   "execution_count": 8,
   "id": "1b06ba4c",
   "metadata": {},
   "outputs": [],
   "source": [
    "import turtle\n",
    "colors = [\"red\",\"purple\",\"blue\",\"green\",\"orange\",\"yellow\"]\n",
    "t = turtle.Pen()\n",
    "turtle.bgcolor(\"black\")\n",
    "t.speed(0)\n",
    "for x in range(360):\n",
    "    t.pencolor(colors[x%6])\n",
    "    t.width(x//100+1)\n",
    "    t.forward(x)\n",
    "    t.left(59)"
   ]
  },
  {
   "cell_type": "markdown",
   "id": "c7515a56",
   "metadata": {},
   "source": [
    "#### Circle Using turtle"
   ]
  },
  {
   "cell_type": "code",
   "execution_count": 1,
   "id": "36d8d68b",
   "metadata": {},
   "outputs": [],
   "source": [
    "import turtle\n",
    "t = turtle.Turtle()\n",
    "s = turtle.Screen()\n",
    "s.bgcolor(\"white\")\n",
    "t.pencolor(\"red\")\n",
    "t.speed(50)\n",
    "for i in range(250):\n",
    "    t.circle(100)\n",
    "    t.lt(1)\n",
    "    t.circle(100)\n",
    "    t.lt(1)"
   ]
  },
  {
   "cell_type": "markdown",
   "id": "2a070e47",
   "metadata": {},
   "source": [
    "#### Multicolored Flower"
   ]
  },
  {
   "cell_type": "code",
   "execution_count": 6,
   "id": "8c750ea6",
   "metadata": {},
   "outputs": [],
   "source": [
    "import turtle\n",
    "t = turtle.Turtle()\n",
    "s = turtle.Screen()\n",
    "s.bgcolor(\"black\")\n",
    "t.speed(0)\n",
    "color = (\"yellow\",\"red\",\"pink\",\"cyan\",\"light green\",\"blue\")\n",
    "for i in range(150):\n",
    "    t.pencolor(color[i%6])\n",
    "    t.circle(190-i/3,90)\n",
    "    t.lt(90)\n",
    "    t.circle(190-i/3,90)\n",
    "    t.lt(60)\n",
    "s.exitonclick()"
   ]
  },
  {
   "cell_type": "markdown",
   "id": "978e0efd",
   "metadata": {},
   "source": [
    "#### Colorful Flower"
   ]
  },
  {
   "cell_type": "code",
   "execution_count": 4,
   "id": "39482b2e",
   "metadata": {},
   "outputs": [],
   "source": [
    "import turtle\n",
    "t = turtle.Turtle()\n",
    "s = turtle.Screen()\n",
    "s.bgcolor('#262626')\n",
    "t.pencolor('#7C909C')\n",
    "t.speed(100)\n",
    "color = ('#ED7864','#6E544F','#592F2F','#6E382E')\n",
    "for x in range(5):\n",
    "    for y in range(8):\n",
    "        t.speed(y+10)\n",
    "        for i in range(2):\n",
    "            t.pensize(2)\n",
    "            t.circle(80+x*20,90)\n",
    "            t.lt(90)\n",
    "        t.lt(45)\n",
    "    t.pencolor(color[x%4])\n",
    "s.exitonclick()\n",
    "        "
   ]
  },
  {
   "cell_type": "markdown",
   "id": "91417c43",
   "metadata": {},
   "source": [
    "#### Windows Logo"
   ]
  },
  {
   "cell_type": "code",
   "execution_count": 1,
   "id": "a3650fdb",
   "metadata": {},
   "outputs": [],
   "source": [
    "import turtle\n",
    "t = turtle.Turtle()\n",
    "s = turtle.Screen()\n",
    "t.speed(2)\n",
    "s.bgcolor(\"black\")\n",
    "t.penup()\n",
    "t.goto(-50,60)\n",
    "t.pendown()\n",
    "t.color(\"#00ADEF\")\n",
    "t.begin_fill()\n",
    "t.goto(100,100)\n",
    "t.goto(100,-100)\n",
    "t.goto(-50,-60)\n",
    "t.goto(-50,60)\n",
    "t.end_fill()\n",
    "t.color(\"black\")\n",
    "t.goto(15,100)\n",
    "t.color(\"black\")\n",
    "t.width(8)\n",
    "t.goto(15,-100)\n",
    "t.penup()\n",
    "t.goto(-100,0)\n",
    "t.pendown()\n",
    "t.goto(100,0)\n",
    "\n"
   ]
  },
  {
   "cell_type": "markdown",
   "id": "b93609eb",
   "metadata": {},
   "source": [
    "#### Circle Spirograph"
   ]
  },
  {
   "cell_type": "code",
   "execution_count": 1,
   "id": "c37a43eb",
   "metadata": {},
   "outputs": [],
   "source": [
    "import turtle\n",
    "t = turtle.Turtle()\n",
    "s = turtle.Screen()\n",
    "s.bgcolor(\"black\")\n",
    "t.pensize(2)\n",
    "t.speed(10)\n",
    "color = (\"red\",\"magenta\",\"blue\",\"cyan\",\"green\",\"yellow\")\n",
    "for i in range(6):\n",
    "    for col in color:\n",
    "        t.color(col)\n",
    "        t.circle(150)\n",
    "        t.left(10)\n",
    "t.hideturtle()\n",
    "        "
   ]
  },
  {
   "cell_type": "markdown",
   "id": "fe75961b",
   "metadata": {},
   "source": [
    "#### Spiral"
   ]
  },
  {
   "cell_type": "code",
   "execution_count": 1,
   "id": "98686267",
   "metadata": {},
   "outputs": [],
   "source": [
    "import turtle\n",
    "t = turtle.Turtle()\n",
    "s = turtle.Screen()\n",
    "s.bgcolor(\"black\")\n",
    "t.width(2)\n",
    "t.speed(15)\n",
    "color = ('white','pink','cyan')\n",
    "for i in range(300):\n",
    "    t.pencolor(color[i%3])\n",
    "    t.forward(i*4)\n",
    "    t.right(121)\n"
   ]
  },
  {
   "cell_type": "markdown",
   "id": "3d663667",
   "metadata": {},
   "source": [
    "#### Inner Earth "
   ]
  },
  {
   "cell_type": "code",
   "execution_count": 1,
   "id": "81041e7d",
   "metadata": {},
   "outputs": [
    {
     "ename": "Terminator",
     "evalue": "",
     "output_type": "error",
     "traceback": [
      "\u001b[1;31m---------------------------------------------------------------------------\u001b[0m",
      "\u001b[1;31mTerminator\u001b[0m                                Traceback (most recent call last)",
      "\u001b[1;32m~\\AppData\\Local\\Temp/ipykernel_12508/2024633113.py\u001b[0m in \u001b[0;36m<module>\u001b[1;34m\u001b[0m\n\u001b[0;32m     19\u001b[0m     \u001b[0msquare\u001b[0m\u001b[1;33m(\u001b[0m\u001b[0mt\u001b[0m\u001b[1;33m,\u001b[0m \u001b[1;36m5\u001b[0m\u001b[1;33m+\u001b[0m\u001b[0mx\u001b[0m\u001b[1;33m)\u001b[0m\u001b[1;33m\u001b[0m\u001b[0m\n\u001b[0;32m     20\u001b[0m     \u001b[0mt\u001b[0m\u001b[1;33m.\u001b[0m\u001b[0mend_fill\u001b[0m\u001b[1;33m(\u001b[0m\u001b[1;33m)\u001b[0m\u001b[1;33m\u001b[0m\u001b[0m\n\u001b[1;32m---> 21\u001b[1;33m     \u001b[0mt\u001b[0m\u001b[1;33m.\u001b[0m\u001b[0mright\u001b[0m\u001b[1;33m(\u001b[0m\u001b[0mphi\u001b[0m\u001b[1;33m)\u001b[0m\u001b[1;33m\u001b[0m\u001b[0m\n\u001b[0m\u001b[0;32m     22\u001b[0m     \u001b[0mt\u001b[0m\u001b[1;33m.\u001b[0m\u001b[0mright\u001b[0m\u001b[1;33m(\u001b[0m\u001b[1;36m.8\u001b[0m\u001b[1;33m)\u001b[0m\u001b[1;33m\u001b[0m\u001b[0m\n\u001b[0;32m     23\u001b[0m \u001b[1;31m#turtle().mainloop()\u001b[0m\u001b[1;33m\u001b[0m\u001b[1;33m\u001b[0m\u001b[0m\n",
      "\u001b[1;32mc:\\users\\sanduni\\appdata\\local\\programs\\python\\python37\\lib\\turtle.py\u001b[0m in \u001b[0;36mright\u001b[1;34m(self, angle)\u001b[0m\n\u001b[0;32m   1676\u001b[0m         \u001b[1;36m337.0\u001b[0m\u001b[1;33m\u001b[0m\u001b[0m\n\u001b[0;32m   1677\u001b[0m         \"\"\"\n\u001b[1;32m-> 1678\u001b[1;33m         \u001b[0mself\u001b[0m\u001b[1;33m.\u001b[0m\u001b[0m_rotate\u001b[0m\u001b[1;33m(\u001b[0m\u001b[1;33m-\u001b[0m\u001b[0mangle\u001b[0m\u001b[1;33m)\u001b[0m\u001b[1;33m\u001b[0m\u001b[0m\n\u001b[0m\u001b[0;32m   1679\u001b[0m \u001b[1;33m\u001b[0m\u001b[0m\n\u001b[0;32m   1680\u001b[0m     \u001b[1;32mdef\u001b[0m \u001b[0mleft\u001b[0m\u001b[1;33m(\u001b[0m\u001b[0mself\u001b[0m\u001b[1;33m,\u001b[0m \u001b[0mangle\u001b[0m\u001b[1;33m)\u001b[0m\u001b[1;33m:\u001b[0m\u001b[1;33m\u001b[0m\u001b[0m\n",
      "\u001b[1;32mc:\\users\\sanduni\\appdata\\local\\programs\\python\\python37\\lib\\turtle.py\u001b[0m in \u001b[0;36m_rotate\u001b[1;34m(self, angle)\u001b[0m\n\u001b[0;32m   3276\u001b[0m                 \u001b[0mself\u001b[0m\u001b[1;33m.\u001b[0m\u001b[0m_update\u001b[0m\u001b[1;33m(\u001b[0m\u001b[1;33m)\u001b[0m\u001b[1;33m\u001b[0m\u001b[0m\n\u001b[0;32m   3277\u001b[0m         \u001b[0mself\u001b[0m\u001b[1;33m.\u001b[0m\u001b[0m_orient\u001b[0m \u001b[1;33m=\u001b[0m \u001b[0mneworient\u001b[0m\u001b[1;33m\u001b[0m\u001b[0m\n\u001b[1;32m-> 3278\u001b[1;33m         \u001b[0mself\u001b[0m\u001b[1;33m.\u001b[0m\u001b[0m_update\u001b[0m\u001b[1;33m(\u001b[0m\u001b[1;33m)\u001b[0m\u001b[1;33m\u001b[0m\u001b[0m\n\u001b[0m\u001b[0;32m   3279\u001b[0m \u001b[1;33m\u001b[0m\u001b[0m\n\u001b[0;32m   3280\u001b[0m     \u001b[1;32mdef\u001b[0m \u001b[0m_newLine\u001b[0m\u001b[1;33m(\u001b[0m\u001b[0mself\u001b[0m\u001b[1;33m,\u001b[0m \u001b[0musePos\u001b[0m\u001b[1;33m=\u001b[0m\u001b[1;32mTrue\u001b[0m\u001b[1;33m)\u001b[0m\u001b[1;33m:\u001b[0m\u001b[1;33m\u001b[0m\u001b[0m\n",
      "\u001b[1;32mc:\\users\\sanduni\\appdata\\local\\programs\\python\\python37\\lib\\turtle.py\u001b[0m in \u001b[0;36m_update\u001b[1;34m(self)\u001b[0m\n\u001b[0;32m   2658\u001b[0m             \u001b[1;32mreturn\u001b[0m\u001b[1;33m\u001b[0m\u001b[0m\n\u001b[0;32m   2659\u001b[0m         \u001b[1;32melif\u001b[0m \u001b[0mscreen\u001b[0m\u001b[1;33m.\u001b[0m\u001b[0m_tracing\u001b[0m \u001b[1;33m==\u001b[0m \u001b[1;36m1\u001b[0m\u001b[1;33m:\u001b[0m\u001b[1;33m\u001b[0m\u001b[0m\n\u001b[1;32m-> 2660\u001b[1;33m             \u001b[0mself\u001b[0m\u001b[1;33m.\u001b[0m\u001b[0m_update_data\u001b[0m\u001b[1;33m(\u001b[0m\u001b[1;33m)\u001b[0m\u001b[1;33m\u001b[0m\u001b[0m\n\u001b[0m\u001b[0;32m   2661\u001b[0m             \u001b[0mself\u001b[0m\u001b[1;33m.\u001b[0m\u001b[0m_drawturtle\u001b[0m\u001b[1;33m(\u001b[0m\u001b[1;33m)\u001b[0m\u001b[1;33m\u001b[0m\u001b[0m\n\u001b[0;32m   2662\u001b[0m             \u001b[0mscreen\u001b[0m\u001b[1;33m.\u001b[0m\u001b[0m_update\u001b[0m\u001b[1;33m(\u001b[0m\u001b[1;33m)\u001b[0m                  \u001b[1;31m# TurtleScreenBase\u001b[0m\u001b[1;33m\u001b[0m\u001b[0m\n",
      "\u001b[1;32mc:\\users\\sanduni\\appdata\\local\\programs\\python\\python37\\lib\\turtle.py\u001b[0m in \u001b[0;36m_update_data\u001b[1;34m(self)\u001b[0m\n\u001b[0;32m   2644\u001b[0m \u001b[1;33m\u001b[0m\u001b[0m\n\u001b[0;32m   2645\u001b[0m     \u001b[1;32mdef\u001b[0m \u001b[0m_update_data\u001b[0m\u001b[1;33m(\u001b[0m\u001b[0mself\u001b[0m\u001b[1;33m)\u001b[0m\u001b[1;33m:\u001b[0m\u001b[1;33m\u001b[0m\u001b[0m\n\u001b[1;32m-> 2646\u001b[1;33m         \u001b[0mself\u001b[0m\u001b[1;33m.\u001b[0m\u001b[0mscreen\u001b[0m\u001b[1;33m.\u001b[0m\u001b[0m_incrementudc\u001b[0m\u001b[1;33m(\u001b[0m\u001b[1;33m)\u001b[0m\u001b[1;33m\u001b[0m\u001b[0m\n\u001b[0m\u001b[0;32m   2647\u001b[0m         \u001b[1;32mif\u001b[0m \u001b[0mself\u001b[0m\u001b[1;33m.\u001b[0m\u001b[0mscreen\u001b[0m\u001b[1;33m.\u001b[0m\u001b[0m_updatecounter\u001b[0m \u001b[1;33m!=\u001b[0m \u001b[1;36m0\u001b[0m\u001b[1;33m:\u001b[0m\u001b[1;33m\u001b[0m\u001b[0m\n\u001b[0;32m   2648\u001b[0m             \u001b[1;32mreturn\u001b[0m\u001b[1;33m\u001b[0m\u001b[0m\n",
      "\u001b[1;32mc:\\users\\sanduni\\appdata\\local\\programs\\python\\python37\\lib\\turtle.py\u001b[0m in \u001b[0;36m_incrementudc\u001b[1;34m(self)\u001b[0m\n\u001b[0;32m   1290\u001b[0m         \u001b[1;32mif\u001b[0m \u001b[1;32mnot\u001b[0m \u001b[0mTurtleScreen\u001b[0m\u001b[1;33m.\u001b[0m\u001b[0m_RUNNING\u001b[0m\u001b[1;33m:\u001b[0m\u001b[1;33m\u001b[0m\u001b[0m\n\u001b[0;32m   1291\u001b[0m             \u001b[0mTurtleScreen\u001b[0m\u001b[1;33m.\u001b[0m\u001b[0m_RUNNING\u001b[0m \u001b[1;33m=\u001b[0m \u001b[1;32mTrue\u001b[0m\u001b[1;33m\u001b[0m\u001b[0m\n\u001b[1;32m-> 1292\u001b[1;33m             \u001b[1;32mraise\u001b[0m \u001b[0mTerminator\u001b[0m\u001b[1;33m\u001b[0m\u001b[0m\n\u001b[0m\u001b[0;32m   1293\u001b[0m         \u001b[1;32mif\u001b[0m \u001b[0mself\u001b[0m\u001b[1;33m.\u001b[0m\u001b[0m_tracing\u001b[0m \u001b[1;33m>\u001b[0m \u001b[1;36m0\u001b[0m\u001b[1;33m:\u001b[0m\u001b[1;33m\u001b[0m\u001b[0m\n\u001b[0;32m   1294\u001b[0m             \u001b[0mself\u001b[0m\u001b[1;33m.\u001b[0m\u001b[0m_updatecounter\u001b[0m \u001b[1;33m+=\u001b[0m \u001b[1;36m1\u001b[0m\u001b[1;33m\u001b[0m\u001b[0m\n",
      "\u001b[1;31mTerminator\u001b[0m: "
     ]
    }
   ],
   "source": [
    "import turtle\n",
    "import math\n",
    "import colorsys\n",
    "phi = 180*(3-math.sqrt(5))\n",
    "\n",
    "t = turtle.Pen()\n",
    "t.speed(0)\n",
    "\n",
    "def square(t,size):\n",
    "    for tmp in range(0,4):\n",
    "        t.forward(size)\n",
    "        t.right(90)\n",
    "        \n",
    "num =200\n",
    "for x in reversed(range(0, num)):\n",
    "    t.fillcolor(colorsys.hsv_to_rgb(x/num,1.0,1.0))\n",
    "    t.begin_fill()\n",
    "    t.circle(5+x,None,11)\n",
    "    square(t, 5+x)\n",
    "    t.end_fill()\n",
    "    t.right(phi)\n",
    "    t.right(.8)\n",
    "#turtle().mainloop()\n",
    "                  "
   ]
  },
  {
   "cell_type": "markdown",
   "id": "660c264d",
   "metadata": {},
   "source": [
    "#### Cosmos of Square"
   ]
  },
  {
   "cell_type": "code",
   "execution_count": 3,
   "id": "1a2217b2",
   "metadata": {},
   "outputs": [],
   "source": [
    "from turtle import *\n",
    "from random import randint\n",
    "bgcolor('black')\n",
    "x = 1\n",
    "speed(0)\n",
    "while x<400:\n",
    "    r = randint(0,255)\n",
    "    g = randint(0,255)\n",
    "    b = randint(0,255)\n",
    "    colormode(255)\n",
    "    pencolor(r,g,b)\n",
    "    fd(50+x)\n",
    "    rt(90.991)\n",
    "    x=x+1"
   ]
  },
  {
   "cell_type": "markdown",
   "id": "cfbaacc5",
   "metadata": {},
   "source": [
    "#### Hexagon with Circles"
   ]
  },
  {
   "cell_type": "code",
   "execution_count": 1,
   "id": "2444909e",
   "metadata": {},
   "outputs": [],
   "source": [
    "import turtle\n",
    "m = turtle.Turtle()\n",
    "m.speed(0)\n",
    "v = turtle.Turtle()\n",
    "v.speed(0)\n",
    "turtle.bgcolor(\"white\")\n",
    "for i in range(150):\n",
    "    m.color(\"red\")\n",
    "    m.circle(i)\n",
    "    m.forward(60)\n",
    "    m.right(60)\n",
    "    v.circle(i)\n",
    "    v.forward(60)\n",
    "    v.color(\"blue\")\n",
    "    v.right(60)"
   ]
  },
  {
   "cell_type": "markdown",
   "id": "508d73b4",
   "metadata": {},
   "source": [
    "#### Assignment Answers"
   ]
  },
  {
   "cell_type": "code",
   "execution_count": null,
   "id": "cf1d43ff",
   "metadata": {},
   "outputs": [],
   "source": [
    "import turtle\n",
    "### Drawing a rectangle\n",
    "ws = turtle.Screen()\n",
    "triangleTurtle = turtle.Turtle()\n",
    "for i in range(3):\n",
    "    #moving turtle 100 units left\n",
    "    triangleTurtle.forward(100)\n",
    "    \n",
    "    # rotating turtle 120 degree right\n",
    "    triangleTurtle.left(120)"
   ]
  },
  {
   "cell_type": "code",
   "execution_count": null,
   "id": "850d9f91",
   "metadata": {},
   "outputs": [],
   "source": [
    "import turtle\n",
    "### Drawing a Star\n",
    "ws = turtle.Screen()\n",
    "starTurtle = turtle.Turtle()\n",
    "for i in range(5):\n",
    "        # moving turtle 100 units forward\n",
    "        starTurtle.forward(100)\n",
    " \n",
    "        # rotating turtle 144 degree right\n",
    "        starTurtle.right(144)"
   ]
  },
  {
   "cell_type": "code",
   "execution_count": null,
   "id": "8a9643a8",
   "metadata": {},
   "outputs": [],
   "source": [
    "import turtle\n",
    "### Drawing a Series of triangles\n",
    "ws = turtle.Screen()\n",
    "starTurtle = turtle.Turtle()\n",
    "starTurtle.penup()\n",
    "starTurtle.goto(-200,-100)\n",
    "starTurtle.pendown()\n",
    "for i in range(5):\n",
    "        # turning 60 degrees left\n",
    "        starTurtle.left(75)\n",
    " \n",
    "        # moving turtle 200 units forward\n",
    "        starTurtle.forward(200)\n",
    "        \n",
    "        #turning 60 degrees right\n",
    "        starTurtle.right(155)\n",
    "        \n",
    "        # moving turtle 200 units forward\n",
    "        starTurtle.forward(200)\n",
    "        \n",
    "        starTurtle.left(81)"
   ]
  },
  {
   "cell_type": "code",
   "execution_count": null,
   "id": "2d4907a4",
   "metadata": {},
   "outputs": [],
   "source": [
    "import turtle\n",
    "### Drawing a Circle\n",
    "ws = turtle.Screen()\n",
    "circleTurtle = turtle.Turtle()\n",
    "r = 100\n",
    "circleTurtle.circle(r)"
   ]
  },
  {
   "cell_type": "code",
   "execution_count": null,
   "id": "773c93cd",
   "metadata": {},
   "outputs": [],
   "source": [
    "import turtle\n",
    "### Drawing a series of squares\n",
    "x = turtle.Turtle()\n",
    "x.penup()\n",
    "x.goto(-250, -250)\n",
    "x.pendown()\n",
    "x.left(90)\n",
    "for i in range(3):\n",
    "    for j in range(6):\n",
    "        x.right(90)\n",
    "        x.pendown()\n",
    "        x.forward(500)\n",
    "\n",
    "        x.right(180)\n",
    "        x.forward(500)\n",
    "        x.right(90)\n",
    "        x.penup()\n",
    "        x.forward(100)\n",
    "    x.backward(100)\n",
    "    x.right(90)"
   ]
  },
  {
   "cell_type": "code",
   "execution_count": null,
   "id": "f2f96919",
   "metadata": {},
   "outputs": [],
   "source": [
    "## Square Flower\n",
    "\n",
    "import turtle\n",
    "square = turtle.Turtle()   \n",
    "for i in range(37):\n",
    "    for j in range(4):\n",
    "        square.forward(100)\n",
    "        square.left(90)\n",
    "    square.left(10)"
   ]
  }
 ],
 "metadata": {
  "kernelspec": {
   "display_name": "Python 3 (ipykernel)",
   "language": "python",
   "name": "python3"
  },
  "language_info": {
   "codemirror_mode": {
    "name": "ipython",
    "version": 3
   },
   "file_extension": ".py",
   "mimetype": "text/x-python",
   "name": "python",
   "nbconvert_exporter": "python",
   "pygments_lexer": "ipython3",
   "version": "3.7.0"
  }
 },
 "nbformat": 4,
 "nbformat_minor": 5
}
